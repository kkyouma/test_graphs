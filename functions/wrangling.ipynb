{
 "cells": [
  {
   "cell_type": "code",
   "execution_count": 3,
   "metadata": {},
   "outputs": [],
   "source": [
    "import numpy as np \n",
    "import pandas as pd\n",
    "\n",
    "# OWN\n",
    "import toolkit.cleaning_toolkit as cleaning_toolkit"
   ]
  },
  {
   "cell_type": "code",
   "execution_count": 4,
   "metadata": {},
   "outputs": [],
   "source": [
    "df = pd.read_csv(\"../data/dataset.csv\")"
   ]
  },
  {
   "cell_type": "code",
   "execution_count": 5,
   "metadata": {},
   "outputs": [],
   "source": [
    "def create_date_columns(df: pd.DataFrame, date_col: str, columns_to_create: dict = None) -> pd.DataFrame:\n",
    "    if not pd.api.types.is_datetime64_any_dtype(df[date_col]):\n",
    "        df[date_col] = pd.to_datetime(df[date_col], errors='coerce')\n",
    "    \n",
    "    all_columns = {\n",
    "        'day': lambda df: df[date_col].dt.strftime('%Y-%m-%d'),\n",
    "        'week': lambda df: df[date_col].dt.to_period('W').apply(\n",
    "            lambda r: r.start_time.strftime('%Y-%m-%d') if pd.notna(r) else None\n",
    "        ),\n",
    "        'month': lambda df: df[date_col].dt.to_period('M').apply(\n",
    "            lambda r: r.start_time.strftime('%Y-%m-%d') if pd.notna(r) else None\n",
    "        ),\n",
    "        'year': lambda df: df[date_col].dt.to_period('Y').apply(\n",
    "            lambda r: r.start_time.strftime('%Y-%m-%d') if pd.notna(r) else None\n",
    "        )\n",
    "    }\n",
    "    \n",
    "    if columns_to_create is None:\n",
    "        columns_to_create = all_columns.keys()\n",
    "    \n",
    "    for col_name in columns_to_create:\n",
    "        if col_name in all_columns:\n",
    "            df[col_name] = all_columns[col_name](df)\n",
    "        else:\n",
    "            print(f\"Advertencia: '{col_name}' no es una opción válida. Opciones válidas: {list(all_columns.keys())}\")\n",
    "    \n",
    "    return df"
   ]
  },
  {
   "cell_type": "code",
   "execution_count": 6,
   "metadata": {},
   "outputs": [],
   "source": [
    "# def get_percent(\n",
    "#     df: pd.DataFrame, cat_col: str, group_col: str = \"week\"\n",
    "# ) -> pd.DataFrame:\n",
    "#     total_group = df.groupby([group_col].size().reindex(week_range, fill_value=0))\n",
    "#     total_group_cat = df.groupby([group_col]).size().unstack(fill_value=0)\n",
    "#     percent_group = total_group.div(total_group_cat, axis=0).reset_index()\n",
    "\n",
    "#     return percent_group"
   ]
  },
  {
   "cell_type": "code",
   "execution_count": 7,
   "metadata": {},
   "outputs": [],
   "source": [
    "def filter_common_categories(\n",
    "    df: pd.DataFrame, cat_col: str, threshold: float = 0.01\n",
    ") -> pd.DataFrame:\n",
    "    category_counts = df[cat_col].value_counts(normalize=True)\n",
    "\n",
    "    common_categories = category_counts[category_counts >= threshold].index\n",
    "\n",
    "    df_filtered = df[df[cat_col].isin(common_categories)]\n",
    "\n",
    "    return df_filtered"
   ]
  },
  {
   "cell_type": "code",
   "execution_count": 8,
   "metadata": {},
   "outputs": [],
   "source": [
    "# def get_percent(\n",
    "#     df: pd.DataFrame, cat_col: str, group_col: str = \"week\"\n",
    "# ) -> pd.DataFrame:\n",
    "#     total_group = df.groupby(group_col).size()\n",
    "#     total_group_cat = df.groupby([group_col, cat_col]).size().unstack(fill_value=0)\n",
    "\n",
    "#     percent_group = total_group_cat.div(total_group, axis=0) * 100\n",
    "#     percent_group = percent_group.reset_index()\n",
    "\n",
    "#     return percent_group"
   ]
  },
  {
   "cell_type": "code",
   "execution_count": 9,
   "metadata": {},
   "outputs": [],
   "source": [
    "def get_percent(\n",
    "    df: pd.DataFrame, cat_col: str, group_col: str = \"week\"\n",
    ") -> pd.DataFrame:\n",
    "    if pd.api.types.is_datetime64_any_dtype(df[group_col]):\n",
    "        df[group_col] = pd.to_datetime(df[group_col])\n",
    "        full_range = pd.date_range(df[group_col].min(), df[group_col].max(), freq=\"D\")\n",
    "    else:\n",
    "        full_range = df[group_col].unique()\n",
    "\n",
    "    total_group = df.groupby(group_col).size()\n",
    "    total_group_cat = df.groupby([group_col, cat_col]).size().unstack(fill_value=0)\n",
    "\n",
    "    total_group = total_group.reindex(full_range, fill_value=0)\n",
    "    total_group_cat = total_group_cat.reindex(full_range, fill_value=0)\n",
    "\n",
    "    percent_group = total_group_cat.div(total_group, axis=0) * 100\n",
    "    percent_group = percent_group.reset_index()\n",
    "\n",
    "    return percent_group"
   ]
  },
  {
   "cell_type": "code",
   "execution_count": 15,
   "metadata": {},
   "outputs": [],
   "source": [
    "def divide_by_date(\n",
    "    df: pd.DataFrame, date_col: str, date_limit: str | pd.Timestamp\n",
    ") -> tuple[pd.DataFrame]:\n",
    "    df[date_col] = pd.to_datetime(df[date_col], errors=\"coerce\")\n",
    "\n",
    "    if isinstance(date_limit, str):\n",
    "        date_limit = pd.to_datetime(date_limit, errors=\"coerce\")\n",
    "\n",
    "    before = df[df[date_col] < date_limit]\n",
    "    after = df[df[date_col] >= date_limit]\n",
    "\n",
    "    return before, after"
   ]
  },
  {
   "cell_type": "code",
   "execution_count": null,
   "metadata": {},
   "outputs": [],
   "source": []
  }
 ],
 "metadata": {
  "kernelspec": {
   "display_name": "data-analysis",
   "language": "python",
   "name": "python3"
  },
  "language_info": {
   "codemirror_mode": {
    "name": "ipython",
    "version": 3
   },
   "file_extension": ".py",
   "mimetype": "text/x-python",
   "name": "python",
   "nbconvert_exporter": "python",
   "pygments_lexer": "ipython3",
   "version": "3.12.4"
  }
 },
 "nbformat": 4,
 "nbformat_minor": 2
}
